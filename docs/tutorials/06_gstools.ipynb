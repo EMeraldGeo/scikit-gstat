{
 "cells": [
  {
   "cell_type": "markdown",
   "metadata": {},
   "source": [
    "# 6 - GSTools"
   ]
  },
  {
   "cell_type": "markdown",
   "metadata": {},
   "source": [
    "With version `0.5` `scikit-gstat` offers an interface to the awesome [`gstools`](https://github.com/GeoStat-Framework/GSTools) library. This way, you can use a `Variogram` estimated with `scikit-gstat` in [`gstools`](https://github.com/GeoStat-Framework/GSTools) to perform random field generation, kriging and much, much more.\n",
    "\n",
    "For a `Variogram` instance, there are two possibilities to export into [`gstools`](https://github.com/GeoStat-Framework/GSTools): \n",
    "\n",
    "1. `Variogram.to_empirical(bin_center=True)` returns a pair of distance lag bins and experimental semi-variance values, like [`gstools.variogram.vario_estimate`](https://geostat-framework.readthedocs.io/projects/gstools/en/latest/generated/gstools.variogram.vario_estimate.html). \n",
    "2. `Variogram.to_gstools` returns a parameterized `CovModel` of the Variogram. This is not implemented yet."
   ]
  },
  {
   "cell_type": "markdown",
   "metadata": {},
   "source": [
    "## 6.1 `to_empirical`\n",
    "\n",
    "### 6.1.1 Reproducing the gstools example\n",
    "\n",
    "You can reproduce the [Getting Started example for variogram estimation from GSTools docs](https://geostat-framework.readthedocs.io/projects/gstools/en/latest/index.html#id3) with `scikit-gstat`, and replace the calculation of the empirical variogram with `skg.Variogram`. \n",
    "\n",
    "Note: This does only make sense if you want to use a distance metric, binning procedure or semi-variance estimator, that is not included in `gstools` or are bound to `scikit-gstat` for any other reason. `Variogram` will _always_ perform a full model fitting cycle on instantiation, which could lead to some substantial overhead here.\n",
    "This behavior might change in a future version of `scikit-gstat`."
   ]
  },
  {
   "cell_type": "code",
   "execution_count": 1,
   "metadata": {},
   "outputs": [],
   "source": [
    "# import\n",
    "import skgstat as skg\n",
    "import gstools as gs\n",
    "import numpy as np\n",
    "import warnings\n",
    "warnings.filterwarnings('ignore')"
   ]
  },
  {
   "cell_type": "code",
   "execution_count": 2,
   "metadata": {},
   "outputs": [],
   "source": [
    "# use the example from gstools\n",
    "# generate a synthetic field with an exponential model\n",
    "x = np.random.RandomState(19970221).rand(1000) * 100.\n",
    "y = np.random.RandomState(20011012).rand(1000) * 100.\n",
    "model = gs.Exponential(dim=2, var=2, len_scale=8)\n",
    "srf = gs.SRF(model, mean=0, seed=19970221)\n",
    "field = srf((x, y))\n",
    "\n",
    "# combine x and y for use in skgstat\n",
    "coords = np.column_stack((x, y))"
   ]
  },
  {
   "cell_type": "markdown",
   "metadata": {},
   "source": [
    "In the example, [`gstools.variogram.vario_estimate`](https://geostat-framework.readthedocs.io/projects/gstools/en/latest/generated/gstools.variogram.vario_estimate.html) is used to estimate the empirical variogram:\n",
    "\n",
    "```Python\n",
    "# estimate the variogram of the field\n",
    "bin_center, gamma = gs.vario_estimate((x, y), field)\n",
    "```\n",
    "\n",
    "Here, we can use `skg.Variogram`. From the shown arguments, `estimator` and `bin_func` are using the default values:"
   ]
  },
  {
   "cell_type": "code",
   "execution_count": 3,
   "metadata": {},
   "outputs": [],
   "source": [
    "V = skg.Variogram(coords, field, n_lags=21, estimator='matheron', maxlag=45, bin_func='even')\n",
    "bin_center, gamma = V.get_empirical(bin_center=True) "
   ]
  },
  {
   "cell_type": "markdown",
   "metadata": {},
   "source": [
    "And finally, the exact same code from the GSTools docs can be called:"
   ]
  },
  {
   "cell_type": "code",
   "execution_count": 4,
   "metadata": {},
   "outputs": [
    {
     "name": "stdout",
     "output_type": "stream",
     "text": [
      "Stable(dim=2, var=1.8664381760010573, len_scale=7.551138734097058, nugget=0.0, anis=[1.], angles=[0.], alpha=1.0796318192255687)\n"
     ]
    },
    {
     "data": {
      "image/png": "[encoded data removed]",
      "text/plain": [
       "<Figure size 432x288 with 1 Axes>"
      ]
     },
     "metadata": {
      "needs_background": "light"
     },
     "output_type": "display_data"
    }
   ],
   "source": [
    "%matplotlib inline\n",
    "# fit the variogram with a stable model. (no nugget fitted)\n",
    "fit_model = gs.Stable(dim=2)\n",
    "fit_model.fit_variogram(bin_center, gamma, nugget=False)\n",
    "# output\n",
    "ax = fit_model.plot(x_max=max(bin_center))\n",
    "ax.scatter(bin_center, gamma)\n",
    "print(fit_model)"
   ]
  },
  {
   "cell_type": "markdown",
   "metadata": {},
   "source": [
    "### 6.1.2 Using other arguments\n",
    "\n",
    "Now, with the example [from the GSTools docs](https://geostat-framework.readthedocs.io/projects/gstools/en/latest/index.html#id3) working, we can start chaning the arguments to create quite different empirical variograms. \n",
    "\n",
    "**Note**: This should just illustrate the available possibilities, the result is by no means producing a better estimate of the initially created Gaussian random field. "
   ]
  },
  {
   "cell_type": "markdown",
   "metadata": {},
   "source": [
    "In this example different things will be changed:\n",
    "\n",
    "- use only 15 lag classes, but distribute the point pairs equally. Note the differing widths of the classes. (`bin_func='uniform'`)\n",
    "- The [Dowd](https://mmaelicke.github.io/scikit-gstat/reference/estimator.html#dowd) estimator is used. (`estimator='dowd'`)\n",
    "- The [Taxicab metric](https://en.wikipedia.org/wiki/Taxicab_geometry) (aka. Manhattan metric or cityblock metric) is used over Euklidean for no obvious reason. (`dist_func='cityblock'`)"
   ]
  },
  {
   "cell_type": "code",
   "execution_count": 5,
   "metadata": {},
   "outputs": [],
   "source": [
    "V = skg.Variogram(coords, field, n_lags=15, estimator='dowd', maxlag=45, bin_func='uniform', dist_func='cityblock')\n",
    "bin_center, gamma = V.get_empirical(bin_center=True) "
   ]
  },
  {
   "cell_type": "code",
   "execution_count": 6,
   "metadata": {},
   "outputs": [
    {
     "name": "stdout",
     "output_type": "stream",
     "text": [
      "Stable(dim=2, var=2.65938343984757, len_scale=17.28936695845174, nugget=1.4232259877071614, anis=[1.], angles=[0.], alpha=1.9999999999999991)\n"
     ]
    },
    {
     "data": {
      "image/png": "[encoded data removed]",
      "text/plain": [
       "<Figure size 432x288 with 1 Axes>"
      ]
     },
     "metadata": {
      "needs_background": "light"
     },
     "output_type": "display_data"
    }
   ],
   "source": [
    "# fit the variogram with a stable model. (no nugget fitted)\n",
    "fit_model = gs.Stable(dim=2)\n",
    "fit_model.fit_variogram(bin_center, gamma, nugget=True)\n",
    "# output\n",
    "ax = fit_model.plot(x_max=max(bin_center))\n",
    "ax.scatter(bin_center, gamma)\n",
    "print(fit_model)"
   ]
  },
  {
   "cell_type": "markdown",
   "metadata": {},
   "source": [
    "If you fit the `gs.Stable` with a nugget, it fits quite well. But keep in mind that this does not necessarily describe the original field very well and was just fitted for demonstration."
   ]
  }
 ],
 "metadata": {
  "kernelspec": {
   "display_name": "Python 3",
   "language": "python",
   "name": "python3"
  },
  "language_info": {
   "codemirror_mode": {
    "name": "ipython",
    "version": 3
   },
   "file_extension": ".py",
   "mimetype": "text/x-python",
   "name": "python",
   "nbconvert_exporter": "python",
   "pygments_lexer": "ipython3",
   "version": "3.8.5"
  }
 },
 "nbformat": 4,
 "nbformat_minor": 4
}
